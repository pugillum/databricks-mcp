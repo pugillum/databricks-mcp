{
 "cells": [
  {
   "cell_type": "code",
   "execution_count": null,
   "id": "325c9787",
   "metadata": {},
   "outputs": [],
   "source": [
    "from databricks.sdk import WorkspaceClient\n",
    "from databricks.sdk.service.jobs import RunLifeCycleState\n",
    "import json"
   ]
  },
  {
   "cell_type": "code",
   "execution_count": null,
   "id": "6f90d4a4",
   "metadata": {},
   "outputs": [],
   "source": [
    "client = WorkspaceClient()"
   ]
  },
  {
   "cell_type": "code",
   "execution_count": null,
   "id": "d50413ca",
   "metadata": {},
   "outputs": [],
   "source": [
    "for job in client.jobs.list(limit=10):\n",
    "    #print(f\"Job ID: {job.job_id}, Name: {job.settings.name}\")\n",
    "    if job.settings.name == \"Unified RBM Feature Set\":\n",
    "        # print the job json\n",
    "        job_json = job.as_dict()\n",
    "        # print the job json in a pretty format\n",
    "        print(json.dumps(job_json, indent=2))\n",
    "        "
   ]
  },
  {
   "cell_type": "code",
   "execution_count": null,
   "id": "1f2921fb",
   "metadata": {},
   "outputs": [],
   "source": [
    "# retrieve the job by ID\n",
    "job_id = 791377447341886\n",
    "job = client.jobs.get(job_id)\n",
    "# print the job json in a pretty format\n",
    "print(json.dumps(job.as_dict(), indent=2))"
   ]
  },
  {
   "cell_type": "code",
   "execution_count": null,
   "id": "7861226c",
   "metadata": {},
   "outputs": [],
   "source": [
    "# get the job run history\n",
    "runs = client.jobs.list_runs(job_id=job_id)\n",
    "limit = 10\n",
    "for run in runs:\n",
    "    print(f\"Run ID: {run.run_id}, State: {run.state.life_cycle_state}, Start Time: {run.start_time}\")\n",
    "    print(f\"Status: {run.status.termination_details.code})\")\n",
    "\n",
    "    if str(run.state.life_cycle_state) != \"RunLifeCycleState.TERMINATED\":\n",
    "        # print run json\n",
    "        run_json = run.as_dict()\n",
    "        print(json.dumps(run_json, indent=2))\n",
    "\n",
    "    limit -= 1\n",
    "    if limit <= 0:\n",
    "        break"
   ]
  },
  {
   "cell_type": "code",
   "execution_count": null,
   "id": "030beedb",
   "metadata": {},
   "outputs": [],
   "source": [
    "# get the job run\n",
    "run_id = 678551723583207\n",
    "\n",
    "run = client.jobs.get_run(run_id)\n",
    "\n",
    "# print the run json in a pretty format\n",
    "print(json.dumps(run.as_dict(), indent=2))"
   ]
  },
  {
   "cell_type": "code",
   "execution_count": null,
   "id": "33acec59",
   "metadata": {},
   "outputs": [],
   "source": [
    "run_id = 526105005844176\n",
    "run = client.jobs.get_run(run_id)\n",
    "# print the run json in a pretty format\n",
    "print(json.dumps(run.as_dict(), indent=2))"
   ]
  },
  {
   "cell_type": "code",
   "execution_count": null,
   "id": "2e3d8165",
   "metadata": {},
   "outputs": [],
   "source": [
    "run_id = 526105005844176\n",
    "run = client.jobs.get_run_output(run_id)\n",
    "# print the run json in a pretty format\n",
    "print(json.dumps(run.as_dict(), indent=2))"
   ]
  },
  {
   "cell_type": "code",
   "execution_count": null,
   "id": "6907cc07",
   "metadata": {},
   "outputs": [],
   "source": []
  }
 ],
 "metadata": {
  "kernelspec": {
   "display_name": ".venv",
   "language": "python",
   "name": "python3"
  },
  "language_info": {
   "codemirror_mode": {
    "name": "ipython",
    "version": 3
   },
   "file_extension": ".py",
   "mimetype": "text/x-python",
   "name": "python",
   "nbconvert_exporter": "python",
   "pygments_lexer": "ipython3",
   "version": "3.10.16"
  }
 },
 "nbformat": 4,
 "nbformat_minor": 5
}
