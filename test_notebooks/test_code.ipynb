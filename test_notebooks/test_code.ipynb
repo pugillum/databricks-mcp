{
 "cells": [
  {
   "cell_type": "code",
   "execution_count": null,
   "id": "66bee8a2",
   "metadata": {},
   "outputs": [],
   "source": [
    "from src.server.databricks_mcp_server import DatabricksMCPServer\n",
    "from dotenv import load_dotenv\n",
    "import json\n",
    "import logging\n",
    "from src.api import jobs\n",
    "import os\n",
    "import sys\n",
    "from typing import Any, Dict, List, Optional\n",
    "\n",
    "# Set up logging\n",
    "logging.basicConfig(\n",
    "    level=logging.INFO,\n",
    "    format=\"%(asctime)s - %(name)s - %(levelname)s - %(message)s\"\n",
    ")\n",
    "logger = logging.getLogger(__name__)"
   ]
  },
  {
   "cell_type": "code",
   "execution_count": null,
   "id": "5fc1cc62",
   "metadata": {},
   "outputs": [],
   "source": [
    "load_dotenv()"
   ]
  },
  {
   "cell_type": "code",
   "execution_count": null,
   "id": "d37cf109",
   "metadata": {},
   "outputs": [],
   "source": [
    "def print_section_header(title: str) -> None:\n",
    "    \"\"\"Print a section header with the given title.\"\"\"\n",
    "    print(f\"\\n{title}\")\n",
    "    print(\"=\" * len(title))"
   ]
  },
  {
   "cell_type": "code",
   "execution_count": null,
   "id": "3bb745bd",
   "metadata": {},
   "outputs": [],
   "source": [
    "def print_clusters(clusters: List[Dict[str, Any]]) -> None:\n",
    "    \"\"\"Print information about Databricks clusters.\"\"\"\n",
    "    print_section_header(\"Databricks Clusters\")\n",
    "    \n",
    "    for i, cluster in enumerate(clusters, 1):\n",
    "        print(f\"\\nCluster {i}:\")\n",
    "        print(f\"  ID: {cluster.get('cluster_id')}\")\n",
    "        print(f\"  Name: {cluster.get('cluster_name')}\")\n",
    "        print(f\"  State: {cluster.get('state')}\")\n",
    "        print(f\"  Spark Version: {cluster.get('spark_version')}\")\n",
    "        print(f\"  Node Type: {cluster.get('node_type_id')}\")"
   ]
  },
  {
   "cell_type": "code",
   "execution_count": null,
   "id": "b571e5a1",
   "metadata": {},
   "outputs": [],
   "source": [
    " # Check for Databricks credentials\n",
    "if not os.environ.get(\"DATABRICKS_HOST\") or not os.environ.get(\"DATABRICKS_TOKEN\"):\n",
    "    logger.error(\"Please set DATABRICKS_HOST and DATABRICKS_TOKEN environment variables\")\n",
    "    sys.exit(1)\n",
    "\n",
    "# Create the Databricks MCP server\n",
    "server = DatabricksMCPServer()\n"
   ]
  },
  {
   "cell_type": "code",
   "execution_count": null,
   "id": "64bb5458",
   "metadata": {},
   "outputs": [],
   "source": [
    "result = await jobs.list_job_runs(job_id=791377447341886)"
   ]
  },
  {
   "cell_type": "code",
   "execution_count": null,
   "id": "dab06136",
   "metadata": {},
   "outputs": [],
   "source": [
    "# pretty print the result\n",
    "print(json.dumps(result, indent=2))"
   ]
  },
  {
   "cell_type": "code",
   "execution_count": null,
   "id": "20d550ad",
   "metadata": {},
   "outputs": [],
   "source": [
    "result = await jobs.get_job_run_details(run_id=678551723583207)\n",
    "print(json.dumps(result, indent=2))"
   ]
  },
  {
   "cell_type": "code",
   "execution_count": null,
   "id": "17245ea8",
   "metadata": {},
   "outputs": [],
   "source": [
    "result = await jobs.get_task_run_output(run_id=526105005844176, )\n",
    "print(json.dumps(result, indent=2))"
   ]
  },
  {
   "cell_type": "code",
   "execution_count": null,
   "id": "24c7db87",
   "metadata": {},
   "outputs": [],
   "source": []
  }
 ],
 "metadata": {
  "kernelspec": {
   "display_name": ".venv",
   "language": "python",
   "name": "python3"
  },
  "language_info": {
   "codemirror_mode": {
    "name": "ipython",
    "version": 3
   },
   "file_extension": ".py",
   "mimetype": "text/x-python",
   "name": "python",
   "nbconvert_exporter": "python",
   "pygments_lexer": "ipython3",
   "version": "3.10.16"
  }
 },
 "nbformat": 4,
 "nbformat_minor": 5
}
